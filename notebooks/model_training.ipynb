{
 "cells": [
  {
   "cell_type": "markdown",
   "metadata": {},
   "source": [
    "## Installations"
   ]
  },
  {
   "cell_type": "code",
   "execution_count": 80,
   "metadata": {},
   "outputs": [],
   "source": [
    "from tensorflow.keras.preprocessing.image import ImageDataGenerator\n",
    "from tensorflow.keras.applications import VGG16, ResNet50, EfficientNetB0\n",
    "from tensorflow.keras.layers import Dropout\n",
    "from tensorflow.keras.layers import Flatten, BatchNormalization\n",
    "from tensorflow.keras.layers import Dense\n",
    "from tensorflow.keras.layers import Input\n",
    "from tensorflow.keras.models import Model\n",
    "from tensorflow.keras.optimizers import SGD, Adam\n",
    "from tensorflow.keras.callbacks import EarlyStopping, ModelCheckpoint\n",
    "from sklearn.metrics import classification_report, confusion_matrix\n",
    "from sklearn.model_selection import train_test_split\n",
    "from keras.models import load_model\n",
    "from imutils import paths\n",
    "from PIL import Image\n",
    "from tqdm import tqdm\n",
    "import matplotlib.pyplot as plt\n",
    "import numpy as np\n",
    "import tensorflow as tf\n",
    "import seaborn as sns\n",
    "import shutil\n",
    "import os"
   ]
  },
  {
   "cell_type": "markdown",
   "metadata": {},
   "source": [
    "## Helper Variables & Functions"
   ]
  },
  {
   "cell_type": "code",
   "execution_count": 2,
   "metadata": {},
   "outputs": [],
   "source": [
    "ORIG_INPUT_DATASET = \"House_Room_Dataset/Bedroom\"\n",
    "\n",
    "TRAIN = \"training\"\n",
    "TEST = \"evaluation\"\n",
    "VAL = \"validation\"\n",
    "\n",
    "BASE_PATH = \"dataset\"\n",
    "BATCH_SIZE = 32\n",
    "CLASSES = [\"Modern\", \"Old\"] # \"Neutral\", "
   ]
  },
  {
   "cell_type": "code",
   "execution_count": 93,
   "metadata": {},
   "outputs": [],
   "source": [
    "def plot_hist(hist, metric):\n",
    "    if metric == 'auc_3':\n",
    "        plt.plot(hist.history[\"auc_3\"])\n",
    "        plt.plot(hist.history[\"val_auc_3\"])\n",
    "    else:\n",
    "        plt.plot(hist.history[\"loss\"])\n",
    "        plt.plot(hist.history[\"val_loss\"])\n",
    "    plt.style.use(\"ggplot\")\n",
    "    plt.title(\"model {}\".format(metric))\n",
    "    plt.ylabel(\"{}\".format(metric))\n",
    "    plt.xlabel(\"epoch\")\n",
    "    plt.legend([\"train\", \"validation\"], loc=\"upper left\")\n",
    "    plt.show()"
   ]
  },
  {
   "cell_type": "markdown",
   "metadata": {},
   "source": [
    "## Loading labels"
   ]
  },
  {
   "cell_type": "code",
   "execution_count": 4,
   "metadata": {},
   "outputs": [
    {
     "data": {
      "text/plain": [
       "451"
      ]
     },
     "execution_count": 4,
     "metadata": {},
     "output_type": "execute_result"
    }
   ],
   "source": [
    "with open(\"dummy.txt\", 'r') as f:\n",
    "    manual_labels = f.read()\n",
    "    \n",
    "labels = [i for i in manual_labels]\n",
    "len(labels)"
   ]
  },
  {
   "cell_type": "code",
   "execution_count": 7,
   "metadata": {},
   "outputs": [
    {
     "data": {
      "text/plain": [
       "451"
      ]
     },
     "execution_count": 7,
     "metadata": {},
     "output_type": "execute_result"
    }
   ],
   "source": [
    "# combine neutral and old labels\n",
    "labels = [l  if l == \"M\" else \"O\" for l in labels]\n",
    "len(labels)"
   ]
  },
  {
   "cell_type": "code",
   "execution_count": 8,
   "metadata": {},
   "outputs": [
    {
     "name": "stdout",
     "output_type": "stream",
     "text": [
      "dict_keys(['O', 'M'])\n",
      "dict_values([271, 180])\n"
     ]
    }
   ],
   "source": [
    "from collections import Counter\n",
    "\n",
    "print(Counter(labels).keys()) # equals to list(set(words))\n",
    "print(Counter(labels).values()) # counts the elements' frequency"
   ]
  },
  {
   "cell_type": "markdown",
   "metadata": {},
   "source": [
    "This seems to indicate class imbalance. Accuracy won't be a good metric! Instead we'll use AUC."
   ]
  },
  {
   "cell_type": "markdown",
   "metadata": {},
   "source": [
    "## Train-Test-Val Split"
   ]
  },
  {
   "cell_type": "code",
   "execution_count": 9,
   "metadata": {},
   "outputs": [],
   "source": [
    "# Important to sort the files in the order in which we see them in folder\n",
    "files = os.listdir(ORIG_INPUT_DATASET)\n",
    "files.sort(key=lambda f: int(f.split('_')[1].split('.')[0]))"
   ]
  },
  {
   "cell_type": "code",
   "execution_count": 10,
   "metadata": {},
   "outputs": [],
   "source": [
    "# splitting files into train and test sets\n",
    "trainX, testX, trainY, testY =  train_test_split(files[:len(labels)], labels, stratify=labels, train_size=0.90)"
   ]
  },
  {
   "cell_type": "code",
   "execution_count": 11,
   "metadata": {},
   "outputs": [],
   "source": [
    "# further splitting of train set into train and val sets\n",
    "trainX, valX, trainY, valY = train_test_split(trainX, trainY, stratify=trainY, train_size=0.85)"
   ]
  },
  {
   "cell_type": "code",
   "execution_count": 12,
   "metadata": {},
   "outputs": [
    {
     "data": {
      "text/plain": [
       "(344, 344, 61, 61, 46, 46)"
      ]
     },
     "execution_count": 12,
     "metadata": {},
     "output_type": "execute_result"
    }
   ],
   "source": [
    "len(trainX), len(trainY), len(valX), len(valY),  len(testX), len(testY)"
   ]
  },
  {
   "cell_type": "markdown",
   "metadata": {},
   "source": [
    "## Directory structure for batch processing"
   ]
  },
  {
   "cell_type": "code",
   "execution_count": 13,
   "metadata": {},
   "outputs": [
    {
     "name": "stderr",
     "output_type": "stream",
     "text": [
      "Iterating over images in sub folder: 100%|██████████| 344/344 [00:00<00:00, 1197.66it/s]\n",
      "Iterating over images in sub folder: 100%|██████████| 46/46 [00:00<00:00, 1352.06it/s]\n",
      "Iterating over images in sub folder: 100%|██████████| 61/61 [00:00<00:00, 1404.53it/s]\n"
     ]
    }
   ],
   "source": [
    "# Building the dataset properly - \n",
    "splits = [(trainX, trainY), (testX, testY), (valX, valY)]\n",
    "dirnames = ['training', 'evaluation', 'validation']\n",
    "\n",
    "for i, (data,label) in enumerate(splits):\n",
    "    outside_dir=dirnames[i]\n",
    "\n",
    "    for j in tqdm(range(0, len(label)), desc=\"Iterating over images in sub folder\"):\n",
    "        dir = label[j]\n",
    "        \n",
    "        # construct the path to the sub-directory\n",
    "        dirPath = os.path.join(BASE_PATH, outside_dir, dir)\n",
    "        \n",
    "        # if the output directory does not exist, create it\n",
    "        if not os.path.exists(dirPath):\n",
    "            os.makedirs(dirPath)\n",
    "            \n",
    "            \n",
    "        # copy the img to this new directory\n",
    "        src_img = os.path.join(ORIG_INPUT_DATASET, data[j])\n",
    "        shutil.copy(src_img, dirPath)"
   ]
  },
  {
   "cell_type": "code",
   "execution_count": 14,
   "metadata": {},
   "outputs": [],
   "source": [
    "# derive the paths to the training, validation, and testing directories\n",
    "trainPath = os.path.sep.join([BASE_PATH, TRAIN])\n",
    "valPath = os.path.sep.join([BASE_PATH, VAL])\n",
    "testPath = os.path.sep.join([BASE_PATH, TEST])"
   ]
  },
  {
   "cell_type": "code",
   "execution_count": 15,
   "metadata": {},
   "outputs": [],
   "source": [
    "# determine the total number of image paths in training, validation,\n",
    "# and testing directories\n",
    "totalTrain = len(list(paths.list_images(trainPath)))\n",
    "totalVal = len(list(paths.list_images(valPath)))\n",
    "totalTest = len(list(paths.list_images(testPath)))"
   ]
  },
  {
   "cell_type": "code",
   "execution_count": 16,
   "metadata": {},
   "outputs": [
    {
     "name": "stdout",
     "output_type": "stream",
     "text": [
      "344 46 61\n"
     ]
    }
   ],
   "source": [
    "print(totalTrain, totalTest, totalVal)"
   ]
  },
  {
   "cell_type": "markdown",
   "metadata": {},
   "source": [
    "## Data Augmentation"
   ]
  },
  {
   "cell_type": "code",
   "execution_count": 17,
   "metadata": {},
   "outputs": [],
   "source": [
    "# initialize the training data augmentation object\n",
    "trainAug = ImageDataGenerator(\n",
    "\trotation_range=90,\n",
    "\tzoom_range=[0.5, 1.0],\n",
    "\twidth_shift_range=0.3,\n",
    "\theight_shift_range=0.25,\n",
    "\tshear_range=0.15,\n",
    "\thorizontal_flip=True,\n",
    "\tfill_mode=\"nearest\",\n",
    " \tbrightness_range=[0.2, 1.0]\n",
    "   )"
   ]
  },
  {
   "cell_type": "code",
   "execution_count": 18,
   "metadata": {},
   "outputs": [],
   "source": [
    "# Default for all the above parameters is 0, \n",
    "# meaning we are applying no augmentation to val set\n",
    "# which is exactly what we need because val set should be treated like test set.\n",
    "valAug = ImageDataGenerator()"
   ]
  },
  {
   "cell_type": "code",
   "execution_count": 19,
   "metadata": {},
   "outputs": [],
   "source": [
    "testAug = ImageDataGenerator()"
   ]
  },
  {
   "cell_type": "markdown",
   "metadata": {},
   "source": [
    "## Data Generators"
   ]
  },
  {
   "cell_type": "code",
   "execution_count": 20,
   "metadata": {},
   "outputs": [
    {
     "name": "stdout",
     "output_type": "stream",
     "text": [
      "Found 344 images belonging to 2 classes.\n"
     ]
    }
   ],
   "source": [
    "# Create batches whilst creating augmented images on the fly\n",
    "\n",
    "trainGen = trainAug.flow_from_directory(\n",
    "    directory=trainPath,\n",
    "    target_size=(224,224),\n",
    "    save_to_dir='dataset/augmented/train',\n",
    "    save_prefix='train',\n",
    "    shuffle=True # data will be shuffled between epochs\n",
    ")"
   ]
  },
  {
   "cell_type": "code",
   "execution_count": 21,
   "metadata": {},
   "outputs": [
    {
     "name": "stdout",
     "output_type": "stream",
     "text": [
      "Found 61 images belonging to 2 classes.\n"
     ]
    }
   ],
   "source": [
    "valGen = valAug.flow_from_directory(\n",
    "    directory=valPath,\n",
    "    target_size=(224,224),\n",
    "    save_to_dir='dataset/augmented/val',\n",
    "    save_prefix='val',\n",
    "    shuffle=True\n",
    ")"
   ]
  },
  {
   "cell_type": "code",
   "execution_count": 22,
   "metadata": {},
   "outputs": [
    {
     "name": "stdout",
     "output_type": "stream",
     "text": [
      "Found 46 images belonging to 2 classes.\n"
     ]
    }
   ],
   "source": [
    "testGen = testAug.flow_from_directory(\n",
    "    directory=testPath,\n",
    "    target_size=(224,224),\n",
    "    shuffle=False\n",
    ")"
   ]
  },
  {
   "cell_type": "markdown",
   "metadata": {},
   "source": [
    "## Transfer Learning"
   ]
  },
  {
   "cell_type": "markdown",
   "metadata": {},
   "source": [
    "### Feature Extraction Step"
   ]
  },
  {
   "cell_type": "code",
   "execution_count": 68,
   "metadata": {},
   "outputs": [],
   "source": [
    "def build_model():\n",
    "    # Building the original base EfficientNet-0 model\n",
    "    baseModel = EfficientNetB0(weights=\"imagenet\", \n",
    "                  include_top=False, # make sure top layer i.e. head is not included\n",
    "                  input_tensor=Input(shape=(224, 224, 3)),\n",
    "                  pooling=\"avg\"\n",
    "                  )\n",
    "    \n",
    "    # freeze the weights\n",
    "    for layer in baseModel.layers:\n",
    "        layer.trainable = False\n",
    "    \n",
    "    # training a new classifier on top\n",
    "    x = baseModel.output\n",
    "    Layer_1 = BatchNormalization()(x)\n",
    "    Layer_2 = Dropout(0.5)(Layer_1)\n",
    "    output_layer = Dense(len(CLASSES), activation=\"softmax\")(Layer_2)\n",
    "    \n",
    "    model = Model(inputs = baseModel.input, outputs = output_layer)\n",
    "    \n",
    "    # compile\n",
    "    opt = Adam(learning_rate=1e-3)\n",
    "    model.compile(optimizer=opt, \n",
    "                loss='binary_crossentropy', \n",
    "                metrics=[tf.keras.metrics.AUC()])\n",
    "    \n",
    "    return model"
   ]
  },
  {
   "cell_type": "code",
   "execution_count": 69,
   "metadata": {},
   "outputs": [],
   "source": [
    "model_preprocess = build_model() "
   ]
  },
  {
   "cell_type": "code",
   "execution_count": 70,
   "metadata": {},
   "outputs": [],
   "source": [
    "# implementing early stopping\n",
    "\n",
    "es = EarlyStopping(monitor='val_loss',  #metric to monitor\n",
    "                   mode='min',  # whether to minimize or maximize the metric monitored\n",
    "                   patience=10,  # how many epochs to wait before declaring stopped training\n",
    "                   verbose=1  # output epoch when training was stopped\n",
    "                   )"
   ]
  },
  {
   "cell_type": "code",
   "execution_count": 71,
   "metadata": {},
   "outputs": [],
   "source": [
    "# model checkpoint - save the best model with best accuracy on val set\n",
    "mc = ModelCheckpoint('feature_extraction.h5', \n",
    "                     monitor='val_loss', \n",
    "                     mode='min', \n",
    "                     verbose=1, # will tell the epoch+ accuracy everytime model is saved\n",
    "                     save_best_only=True)"
   ]
  },
  {
   "cell_type": "code",
   "execution_count": 72,
   "metadata": {},
   "outputs": [
    {
     "name": "stdout",
     "output_type": "stream",
     "text": [
      "Epoch 1/25\n",
      "10/10 - 23s - loss: 1.0418 - auc_2: 0.4930 - val_loss: 0.6693 - val_auc_2: 0.6721\n",
      "\n",
      "Epoch 00001: val_loss improved from inf to 0.66926, saving model to feature_extraction.h5\n"
     ]
    },
    {
     "name": "stderr",
     "output_type": "stream",
     "text": [
      "/Users/varshita/Desktop/End_To_End_Project/e2eproject/lib/python3.9/site-packages/keras/utils/generic_utils.py:494: CustomMaskWarning: Custom mask layers require a config and must override get_config. When loading, the custom mask layer must be passed to the custom_objects argument.\n",
      "  warnings.warn('Custom mask layers require a config and must override '\n"
     ]
    },
    {
     "name": "stdout",
     "output_type": "stream",
     "text": [
      "Epoch 2/25\n",
      "10/10 - 18s - loss: 0.8600 - auc_2: 0.6238 - val_loss: 0.6524 - val_auc_2: 0.7100\n",
      "\n",
      "Epoch 00002: val_loss improved from 0.66926 to 0.65243, saving model to feature_extraction.h5\n",
      "Epoch 3/25\n",
      "10/10 - 18s - loss: 0.8111 - auc_2: 0.6898 - val_loss: 0.6398 - val_auc_2: 0.7243\n",
      "\n",
      "Epoch 00003: val_loss improved from 0.65243 to 0.63981, saving model to feature_extraction.h5\n",
      "Epoch 4/25\n",
      "10/10 - 18s - loss: 0.8387 - auc_2: 0.6643 - val_loss: 0.6281 - val_auc_2: 0.7395\n",
      "\n",
      "Epoch 00004: val_loss improved from 0.63981 to 0.62811, saving model to feature_extraction.h5\n",
      "Epoch 5/25\n",
      "10/10 - 18s - loss: 0.7357 - auc_2: 0.7318 - val_loss: 0.6197 - val_auc_2: 0.7436\n",
      "\n",
      "Epoch 00005: val_loss improved from 0.62811 to 0.61971, saving model to feature_extraction.h5\n",
      "Epoch 6/25\n",
      "10/10 - 17s - loss: 0.7525 - auc_2: 0.7117 - val_loss: 0.6153 - val_auc_2: 0.7459\n",
      "\n",
      "Epoch 00006: val_loss improved from 0.61971 to 0.61532, saving model to feature_extraction.h5\n",
      "Epoch 7/25\n",
      "10/10 - 18s - loss: 0.7598 - auc_2: 0.7187 - val_loss: 0.6112 - val_auc_2: 0.7463\n",
      "\n",
      "Epoch 00007: val_loss improved from 0.61532 to 0.61116, saving model to feature_extraction.h5\n",
      "Epoch 8/25\n",
      "10/10 - 18s - loss: 0.6908 - auc_2: 0.7574 - val_loss: 0.6110 - val_auc_2: 0.7433\n",
      "\n",
      "Epoch 00008: val_loss improved from 0.61116 to 0.61100, saving model to feature_extraction.h5\n",
      "Epoch 9/25\n",
      "10/10 - 18s - loss: 0.7051 - auc_2: 0.7449 - val_loss: 0.6037 - val_auc_2: 0.7423\n",
      "\n",
      "Epoch 00009: val_loss improved from 0.61100 to 0.60374, saving model to feature_extraction.h5\n",
      "Epoch 10/25\n",
      "10/10 - 18s - loss: 0.6813 - auc_2: 0.7666 - val_loss: 0.6014 - val_auc_2: 0.7455\n",
      "\n",
      "Epoch 00010: val_loss improved from 0.60374 to 0.60144, saving model to feature_extraction.h5\n",
      "Epoch 11/25\n",
      "10/10 - 18s - loss: 0.6320 - auc_2: 0.7958 - val_loss: 0.5929 - val_auc_2: 0.7562\n",
      "\n",
      "Epoch 00011: val_loss improved from 0.60144 to 0.59290, saving model to feature_extraction.h5\n",
      "Epoch 12/25\n",
      "10/10 - 18s - loss: 0.6737 - auc_2: 0.7751 - val_loss: 0.5858 - val_auc_2: 0.7662\n",
      "\n",
      "Epoch 00012: val_loss improved from 0.59290 to 0.58585, saving model to feature_extraction.h5\n",
      "Epoch 13/25\n",
      "10/10 - 18s - loss: 0.7203 - auc_2: 0.7292 - val_loss: 0.5786 - val_auc_2: 0.7760\n",
      "\n",
      "Epoch 00013: val_loss improved from 0.58585 to 0.57857, saving model to feature_extraction.h5\n",
      "Epoch 14/25\n",
      "10/10 - 17s - loss: 0.6861 - auc_2: 0.7495 - val_loss: 0.5753 - val_auc_2: 0.7764\n",
      "\n",
      "Epoch 00014: val_loss improved from 0.57857 to 0.57529, saving model to feature_extraction.h5\n",
      "Epoch 15/25\n",
      "10/10 - 18s - loss: 0.6469 - auc_2: 0.7789 - val_loss: 0.5714 - val_auc_2: 0.7765\n",
      "\n",
      "Epoch 00015: val_loss improved from 0.57529 to 0.57136, saving model to feature_extraction.h5\n",
      "Epoch 16/25\n",
      "10/10 - 18s - loss: 0.6095 - auc_2: 0.8017 - val_loss: 0.5645 - val_auc_2: 0.7906\n",
      "\n",
      "Epoch 00016: val_loss improved from 0.57136 to 0.56449, saving model to feature_extraction.h5\n",
      "Epoch 17/25\n",
      "10/10 - 18s - loss: 0.6094 - auc_2: 0.7961 - val_loss: 0.5601 - val_auc_2: 0.7992\n",
      "\n",
      "Epoch 00017: val_loss improved from 0.56449 to 0.56013, saving model to feature_extraction.h5\n",
      "Epoch 18/25\n",
      "10/10 - 18s - loss: 0.6137 - auc_2: 0.7981 - val_loss: 0.5605 - val_auc_2: 0.7959\n",
      "\n",
      "Epoch 00018: val_loss did not improve from 0.56013\n",
      "Epoch 19/25\n",
      "10/10 - 19s - loss: 0.6741 - auc_2: 0.7509 - val_loss: 0.5616 - val_auc_2: 0.7816\n",
      "\n",
      "Epoch 00019: val_loss did not improve from 0.56013\n",
      "Epoch 20/25\n",
      "10/10 - 18s - loss: 0.5780 - auc_2: 0.8126 - val_loss: 0.5746 - val_auc_2: 0.7724\n",
      "\n",
      "Epoch 00020: val_loss did not improve from 0.56013\n",
      "Epoch 21/25\n",
      "10/10 - 18s - loss: 0.6061 - auc_2: 0.8030 - val_loss: 0.5746 - val_auc_2: 0.7721\n",
      "\n",
      "Epoch 00021: val_loss did not improve from 0.56013\n",
      "Epoch 22/25\n",
      "10/10 - 17s - loss: 0.5946 - auc_2: 0.8025 - val_loss: 0.5634 - val_auc_2: 0.7810\n",
      "\n",
      "Epoch 00022: val_loss did not improve from 0.56013\n",
      "Epoch 23/25\n",
      "10/10 - 17s - loss: 0.5762 - auc_2: 0.8159 - val_loss: 0.5495 - val_auc_2: 0.8057\n",
      "\n",
      "Epoch 00023: val_loss improved from 0.56013 to 0.54955, saving model to feature_extraction.h5\n",
      "Epoch 24/25\n",
      "10/10 - 19s - loss: 0.5745 - auc_2: 0.8088 - val_loss: 0.5475 - val_auc_2: 0.8081\n",
      "\n",
      "Epoch 00024: val_loss improved from 0.54955 to 0.54755, saving model to feature_extraction.h5\n",
      "Epoch 25/25\n",
      "10/10 - 18s - loss: 0.6151 - auc_2: 0.7872 - val_loss: 0.5490 - val_auc_2: 0.8057\n",
      "\n",
      "Epoch 00025: val_loss did not improve from 0.54755\n"
     ]
    }
   ],
   "source": [
    "# Training the model\n",
    "hist = model_preprocess.fit(\n",
    "    x=trainGen,\n",
    "    epochs=25,\n",
    "    verbose=2,\n",
    "    validation_data=valGen,\n",
    "    # shuffle=True, # argument is ignored when `x` is a generator\n",
    "    steps_per_epoch=totalTrain // BATCH_SIZE,\n",
    "    callbacks=[es, mc]\n",
    ")"
   ]
  },
  {
   "cell_type": "code",
   "execution_count": 73,
   "metadata": {},
   "outputs": [
    {
     "data": {
      "image/png": "[encoded data removed]",
      "text/plain": [
       "<Figure size 432x288 with 1 Axes>"
      ]
     },
     "metadata": {},
     "output_type": "display_data"
    }
   ],
   "source": [
    "# plotting losses to see if it would have benefitted from more epochs\n",
    "\n",
    "plot_hist(hist, metric=\"loss\")"
   ]
  },
  {
   "cell_type": "markdown",
   "metadata": {},
   "source": [
    "Interesting observation: Validation loss lower than training loss with 25 epochs \n",
    "\n",
    "[Possible Reasons](https://www.pyimagesearch.com/2019/10/14/why-is-my-validation-loss-lower-than-my-training-loss/).\n",
    "\n",
    "Reasons #1: Regularization (such as Dropouts) is applied only during training and not during validation. Regularization sacrifices training accuracy to improve validation/test accuracy and so val loss can go lower than train loss.\n",
    "\n",
    "Reason #2: Our val set is too small (only 61 images) and perhaps it was too easier than the training set."
   ]
  },
  {
   "cell_type": "code",
   "execution_count": 79,
   "metadata": {},
   "outputs": [
    {
     "data": {
      "image/png": "[encoded data removed]",
      "text/plain": [
       "<Figure size 432x288 with 1 Axes>"
      ]
     },
     "metadata": {},
     "output_type": "display_data"
    }
   ],
   "source": [
    "plot_hist(hist, metric=\"auc_2\")"
   ]
  },
  {
   "cell_type": "code",
   "execution_count": 82,
   "metadata": {},
   "outputs": [
    {
     "name": "stdout",
     "output_type": "stream",
     "text": [
      "No. of test images 46\n",
      "{'M': 0, 'O': 1}\n"
     ]
    },
    {
     "data": {
      "image/png": "[encoded data removed]",
      "text/plain": [
       "<Figure size 432x288 with 2 Axes>"
      ]
     },
     "metadata": {},
     "output_type": "display_data"
    }
   ],
   "source": [
    "# Checking the performance on testset\n",
    "testGen.reset()\n",
    "\n",
    "predIdxs = model_preprocess.predict(x=testGen, \n",
    "                                    steps=(totalTest // BATCH_SIZE) + 1\n",
    "                                    )\n",
    "\n",
    "predIdxs = np.argmax(predIdxs, axis = 1)\n",
    "print(\"No. of test images\", len(predIdxs))\n",
    "print(testGen.class_indices)\n",
    "\n",
    "cm = confusion_matrix(testGen.classes, predIdxs)\n",
    "\n",
    "heatmap = sns.heatmap(cm, annot=True)\n",
    "\n",
    "plt.xlabel(\"Predicted\") \n",
    "plt.ylabel(\"Actual\")\n",
    "plt.show()\n"
   ]
  },
  {
   "cell_type": "markdown",
   "metadata": {},
   "source": [
    "Observation: As you can see, the diagonal should have maximum number of instances."
   ]
  },
  {
   "cell_type": "markdown",
   "metadata": {},
   "source": [
    "### Fine Tuning Step"
   ]
  },
  {
   "cell_type": "markdown",
   "metadata": {},
   "source": [
    "Observation: Although this step is optional, it can greatly help if your training dataset varies signficantly on which EfficientNet was trained.\n",
    "\n",
    "We will start by unfreezing last 20 layers i.e. 1 block (plus some additional layers)."
   ]
  },
  {
   "cell_type": "code",
   "execution_count": 88,
   "metadata": {},
   "outputs": [],
   "source": [
    "def fine_tune_model(model):\n",
    "    \n",
    "    # unfreeze last conv block i.e. block7a which can be found in top 20 layers\n",
    "    for layer in model.layers[-20:]:\n",
    "        if not isinstance(layer, BatchNormalization):\n",
    "            layer.trainable = True\n",
    "            \n",
    "    # check which of these are trainable and which aren't\n",
    "    for layer in model.layers:\n",
    "\t    print(\"{}: {}\".format(layer, layer.trainable))\n",
    "     \n",
    "     \n",
    "    # compile (with an even smaller learning rate)\n",
    "    opt = Adam(learning_rate=1e-5)\n",
    "    model.compile(optimizer=opt, \n",
    "                loss='binary_crossentropy', \n",
    "                metrics=[tf.keras.metrics.AUC()])\n",
    "    \n",
    "    return model"
   ]
  },
  {
   "cell_type": "code",
   "execution_count": 89,
   "metadata": {},
   "outputs": [
    {
     "name": "stdout",
     "output_type": "stream",
     "text": [
      "<keras.engine.input_layer.InputLayer object at 0x19d458d60>: False\n",
      "<keras.layers.preprocessing.image_preprocessing.Rescaling object at 0x19d4586a0>: False\n",
      "<keras.layers.preprocessing.normalization.Normalization object at 0x19d458d00>: False\n",
      "<keras.layers.convolutional.ZeroPadding2D object at 0x1a15dc8b0>: False\n",
      "<keras.layers.convolutional.Conv2D object at 0x19d4da1c0>: False\n",
      "<keras.layers.normalization.batch_normalization.BatchNormalization object at 0x1a15dc8e0>: False\n",
      "<keras.layers.core.Activation object at 0x19d53cfa0>: False\n",
      "<keras.layers.convolutional.DepthwiseConv2D object at 0x19d567580>: False\n",
      "<keras.layers.normalization.batch_normalization.BatchNormalization object at 0x19d331160>: False\n",
      "<keras.layers.core.Activation object at 0x19d4ff520>: False\n",
      "<keras.layers.pooling.GlobalAveragePooling2D object at 0x19d56a880>: False\n",
      "<keras.layers.core.Reshape object at 0x19d56a940>: False\n",
      "<keras.layers.convolutional.Conv2D object at 0x19ce76eb0>: False\n",
      "<keras.layers.convolutional.Conv2D object at 0x1a0c59a00>: False\n",
      "<keras.layers.merge.Multiply object at 0x19d5b5d60>: False\n",
      "<keras.layers.convolutional.Conv2D object at 0x19d5f2d60>: False\n",
      "<keras.layers.normalization.batch_normalization.BatchNormalization object at 0x19d505ee0>: False\n",
      "<keras.layers.convolutional.Conv2D object at 0x19c8c7520>: False\n",
      "<keras.layers.normalization.batch_normalization.BatchNormalization object at 0x19cef3a30>: False\n",
      "<keras.layers.core.Activation object at 0x19d5b5970>: False\n",
      "<keras.layers.convolutional.ZeroPadding2D object at 0x19cef37c0>: False\n",
      "<keras.layers.convolutional.DepthwiseConv2D object at 0x19d458910>: False\n",
      "<keras.layers.normalization.batch_normalization.BatchNormalization object at 0x19cebc0a0>: False\n",
      "<keras.layers.core.Activation object at 0x19ceb0f70>: False\n",
      "<keras.layers.pooling.GlobalAveragePooling2D object at 0x19ceb0dc0>: False\n",
      "<keras.layers.core.Reshape object at 0x19ceb0e50>: False\n",
      "<keras.layers.convolutional.Conv2D object at 0x19ce90160>: False\n",
      "<keras.layers.convolutional.Conv2D object at 0x1a168a130>: False\n",
      "<keras.layers.merge.Multiply object at 0x1a1696eb0>: False\n",
      "<keras.layers.convolutional.Conv2D object at 0x19d3e5c10>: False\n",
      "<keras.layers.normalization.batch_normalization.BatchNormalization object at 0x1a15064c0>: False\n",
      "<keras.layers.convolutional.Conv2D object at 0x19cebc2e0>: False\n",
      "<keras.layers.normalization.batch_normalization.BatchNormalization object at 0x1a1696370>: False\n",
      "<keras.layers.core.Activation object at 0x1a16848e0>: False\n",
      "<keras.layers.convolutional.DepthwiseConv2D object at 0x1a1578e20>: False\n",
      "<keras.layers.normalization.batch_normalization.BatchNormalization object at 0x1a167efd0>: False\n",
      "<keras.layers.core.Activation object at 0x1a1506f10>: False\n",
      "<keras.layers.pooling.GlobalAveragePooling2D object at 0x1a167e3a0>: False\n",
      "<keras.layers.core.Reshape object at 0x1a1724f10>: False\n",
      "<keras.layers.convolutional.Conv2D object at 0x1a1588130>: False\n",
      "<keras.layers.convolutional.Conv2D object at 0x19ceb08e0>: False\n",
      "<keras.layers.merge.Multiply object at 0x1a156d4c0>: False\n",
      "<keras.layers.convolutional.Conv2D object at 0x1a1588fa0>: False\n",
      "<keras.layers.normalization.batch_normalization.BatchNormalization object at 0x1a156d340>: False\n",
      "<keras.layers.core.Dropout object at 0x1a14e6040>: False\n",
      "<keras.layers.merge.Add object at 0x1a1724400>: False\n",
      "<keras.layers.convolutional.Conv2D object at 0x19cef39d0>: False\n",
      "<keras.layers.normalization.batch_normalization.BatchNormalization object at 0x1a1504e20>: False\n",
      "<keras.layers.core.Activation object at 0x1a1588cd0>: False\n",
      "<keras.layers.convolutional.ZeroPadding2D object at 0x1a1501d30>: False\n",
      "<keras.layers.convolutional.DepthwiseConv2D object at 0x19d41ad60>: False\n",
      "<keras.layers.normalization.batch_normalization.BatchNormalization object at 0x1a16516d0>: False\n",
      "<keras.layers.core.Activation object at 0x1a14e62e0>: False\n",
      "<keras.layers.pooling.GlobalAveragePooling2D object at 0x1a14ea970>: False\n",
      "<keras.layers.core.Reshape object at 0x1a1651d30>: False\n",
      "<keras.layers.convolutional.Conv2D object at 0x1a14ebbb0>: False\n",
      "<keras.layers.convolutional.Conv2D object at 0x1a14f3ca0>: False\n",
      "<keras.layers.merge.Multiply object at 0x1a161b280>: False\n",
      "<keras.layers.convolutional.Conv2D object at 0x1a161b040>: False\n",
      "<keras.layers.normalization.batch_normalization.BatchNormalization object at 0x1a14ff6a0>: False\n",
      "<keras.layers.convolutional.Conv2D object at 0x1a15ce220>: False\n",
      "<keras.layers.normalization.batch_normalization.BatchNormalization object at 0x1a15ce190>: False\n",
      "<keras.layers.core.Activation object at 0x1a1616670>: False\n",
      "<keras.layers.convolutional.DepthwiseConv2D object at 0x1a1724460>: False\n",
      "<keras.layers.normalization.batch_normalization.BatchNormalization object at 0x19cf3e790>: False\n",
      "<keras.layers.core.Activation object at 0x1a14f67f0>: False\n",
      "<keras.layers.pooling.GlobalAveragePooling2D object at 0x19ceb0130>: False\n",
      "<keras.layers.core.Reshape object at 0x1a14f30a0>: False\n",
      "<keras.layers.convolutional.Conv2D object at 0x1a162fe50>: False\n",
      "<keras.layers.convolutional.Conv2D object at 0x1a162d7f0>: False\n",
      "<keras.layers.merge.Multiply object at 0x1a161f220>: False\n",
      "<keras.layers.convolutional.Conv2D object at 0x1a161f8b0>: False\n",
      "<keras.layers.normalization.batch_normalization.BatchNormalization object at 0x1a14eb220>: False\n",
      "<keras.layers.core.Dropout object at 0x1a161e160>: False\n",
      "<keras.layers.merge.Add object at 0x1a162bca0>: False\n",
      "<keras.layers.convolutional.Conv2D object at 0x1a14ea490>: False\n",
      "<keras.layers.normalization.batch_normalization.BatchNormalization object at 0x1a161a0d0>: False\n",
      "<keras.layers.core.Activation object at 0x1a161f070>: False\n",
      "<keras.layers.convolutional.ZeroPadding2D object at 0x1a1620c70>: False\n",
      "<keras.layers.convolutional.DepthwiseConv2D object at 0x1a14ea5e0>: False\n",
      "<keras.layers.normalization.batch_normalization.BatchNormalization object at 0x1a1620700>: False\n",
      "<keras.layers.core.Activation object at 0x1a1623490>: False\n",
      "<keras.layers.pooling.GlobalAveragePooling2D object at 0x1a16379a0>: False\n",
      "<keras.layers.core.Reshape object at 0x1a172ed60>: False\n",
      "<keras.layers.convolutional.Conv2D object at 0x1a1737130>: False\n",
      "<keras.layers.convolutional.Conv2D object at 0x1a161edc0>: False\n",
      "<keras.layers.merge.Multiply object at 0x1a1737b20>: False\n",
      "<keras.layers.convolutional.Conv2D object at 0x1a173da00>: False\n",
      "<keras.layers.normalization.batch_normalization.BatchNormalization object at 0x1a17379a0>: False\n",
      "<keras.layers.convolutional.Conv2D object at 0x1a161a820>: False\n",
      "<keras.layers.normalization.batch_normalization.BatchNormalization object at 0x1a1743610>: False\n",
      "<keras.layers.core.Activation object at 0x1a173d160>: False\n",
      "<keras.layers.convolutional.DepthwiseConv2D object at 0x1a174f760>: False\n",
      "<keras.layers.normalization.batch_normalization.BatchNormalization object at 0x1a1624790>: False\n",
      "<keras.layers.core.Activation object at 0x1a15c0ac0>: False\n",
      "<keras.layers.pooling.GlobalAveragePooling2D object at 0x1a174f490>: False\n",
      "<keras.layers.core.Reshape object at 0x1a1749a60>: False\n",
      "<keras.layers.convolutional.Conv2D object at 0x1a15af400>: False\n",
      "<keras.layers.convolutional.Conv2D object at 0x1a15afeb0>: False\n",
      "<keras.layers.merge.Multiply object at 0x1a15bd280>: False\n",
      "<keras.layers.convolutional.Conv2D object at 0x1a15a72b0>: False\n",
      "<keras.layers.normalization.batch_normalization.BatchNormalization object at 0x1a1737550>: False\n",
      "<keras.layers.core.Dropout object at 0x1a162f2e0>: False\n",
      "<keras.layers.merge.Add object at 0x1a15a78b0>: False\n",
      "<keras.layers.convolutional.Conv2D object at 0x1a1623700>: False\n",
      "<keras.layers.normalization.batch_normalization.BatchNormalization object at 0x1a16372b0>: False\n",
      "<keras.layers.core.Activation object at 0x1a15c0220>: False\n",
      "<keras.layers.convolutional.DepthwiseConv2D object at 0x1a159a400>: False\n",
      "<keras.layers.normalization.batch_normalization.BatchNormalization object at 0x1a161e370>: False\n",
      "<keras.layers.core.Activation object at 0x1a1637be0>: False\n",
      "<keras.layers.pooling.GlobalAveragePooling2D object at 0x1a17542e0>: False\n",
      "<keras.layers.core.Reshape object at 0x1a15be310>: False\n",
      "<keras.layers.convolutional.Conv2D object at 0x1a1754a60>: False\n",
      "<keras.layers.convolutional.Conv2D object at 0x1a17526a0>: False\n",
      "<keras.layers.merge.Multiply object at 0x1a175abb0>: False\n",
      "<keras.layers.convolutional.Conv2D object at 0x1a15a8a60>: False\n",
      "<keras.layers.normalization.batch_normalization.BatchNormalization object at 0x1a17545b0>: False\n",
      "<keras.layers.core.Dropout object at 0x1a17682b0>: False\n",
      "<keras.layers.merge.Add object at 0x1a15a8520>: False\n",
      "<keras.layers.convolutional.Conv2D object at 0x1a17688b0>: False\n",
      "<keras.layers.normalization.batch_normalization.BatchNormalization object at 0x1a175fdc0>: False\n",
      "<keras.layers.core.Activation object at 0x1a175a9a0>: False\n",
      "<keras.layers.convolutional.DepthwiseConv2D object at 0x1a17744f0>: False\n",
      "<keras.layers.normalization.batch_normalization.BatchNormalization object at 0x1a1774e20>: False\n",
      "<keras.layers.core.Activation object at 0x1a1754520>: False\n",
      "<keras.layers.pooling.GlobalAveragePooling2D object at 0x1a1778220>: False\n",
      "<keras.layers.core.Reshape object at 0x1a177ca00>: False\n",
      "<keras.layers.convolutional.Conv2D object at 0x1a1782df0>: False\n",
      "<keras.layers.convolutional.Conv2D object at 0x1a1764640>: False\n",
      "<keras.layers.merge.Multiply object at 0x1a1787e50>: False\n",
      "<keras.layers.convolutional.Conv2D object at 0x1a178edc0>: False\n",
      "<keras.layers.normalization.batch_normalization.BatchNormalization object at 0x1a1787ee0>: False\n",
      "<keras.layers.convolutional.Conv2D object at 0x1a17781f0>: False\n",
      "<keras.layers.normalization.batch_normalization.BatchNormalization object at 0x1a1799e50>: False\n",
      "<keras.layers.core.Activation object at 0x1a178ec10>: False\n",
      "<keras.layers.convolutional.DepthwiseConv2D object at 0x1a17a4df0>: False\n",
      "<keras.layers.normalization.batch_normalization.BatchNormalization object at 0x1a17a4f40>: False\n",
      "<keras.layers.core.Activation object at 0x1a17b8490>: False\n",
      "<keras.layers.pooling.GlobalAveragePooling2D object at 0x1a17b8370>: False\n",
      "<keras.layers.core.Reshape object at 0x1a17b8250>: False\n",
      "<keras.layers.convolutional.Conv2D object at 0x1a17b1850>: False\n",
      "<keras.layers.convolutional.Conv2D object at 0x1a177cfa0>: False\n",
      "<keras.layers.merge.Multiply object at 0x1a1782d60>: False\n",
      "<keras.layers.convolutional.Conv2D object at 0x1a1782610>: False\n",
      "<keras.layers.normalization.batch_normalization.BatchNormalization object at 0x1a15016d0>: False\n",
      "<keras.layers.core.Dropout object at 0x1a17bd700>: False\n",
      "<keras.layers.merge.Add object at 0x1a17b83a0>: False\n",
      "<keras.layers.convolutional.Conv2D object at 0x1a175fbb0>: False\n",
      "<keras.layers.normalization.batch_normalization.BatchNormalization object at 0x1a1768af0>: False\n",
      "<keras.layers.core.Activation object at 0x1a1764b50>: False\n",
      "<keras.layers.convolutional.DepthwiseConv2D object at 0x1a17bf460>: False\n",
      "<keras.layers.normalization.batch_normalization.BatchNormalization object at 0x1a17a11f0>: False\n",
      "<keras.layers.core.Activation object at 0x1a16234c0>: False\n",
      "<keras.layers.pooling.GlobalAveragePooling2D object at 0x1a17bf940>: False\n",
      "<keras.layers.core.Reshape object at 0x1a17bfdc0>: False\n",
      "<keras.layers.convolutional.Conv2D object at 0x1a17d41c0>: False\n",
      "<keras.layers.convolutional.Conv2D object at 0x1a17bf6a0>: False\n",
      "<keras.layers.merge.Multiply object at 0x1a17d4df0>: False\n",
      "<keras.layers.convolutional.Conv2D object at 0x1a17dca30>: False\n",
      "<keras.layers.normalization.batch_normalization.BatchNormalization object at 0x1a17d44f0>: False\n",
      "<keras.layers.core.Dropout object at 0x1a17e6a30>: False\n",
      "<keras.layers.merge.Add object at 0x1a17bfcd0>: False\n",
      "<keras.layers.convolutional.Conv2D object at 0x1a1754e50>: False\n",
      "<keras.layers.normalization.batch_normalization.BatchNormalization object at 0x1a17e6430>: False\n",
      "<keras.layers.core.Activation object at 0x1a17dc2b0>: False\n",
      "<keras.layers.convolutional.ZeroPadding2D object at 0x1a17f74f0>: False\n",
      "<keras.layers.convolutional.DepthwiseConv2D object at 0x1a1637790>: False\n",
      "<keras.layers.normalization.batch_normalization.BatchNormalization object at 0x1a17f00d0>: False\n",
      "<keras.layers.core.Activation object at 0x1a17e6310>: False\n",
      "<keras.layers.pooling.GlobalAveragePooling2D object at 0x1a18080d0>: False\n",
      "<keras.layers.core.Reshape object at 0x1a17ec0d0>: False\n",
      "<keras.layers.convolutional.Conv2D object at 0x1a1808fa0>: False\n",
      "<keras.layers.convolutional.Conv2D object at 0x1a17ec970>: False\n",
      "<keras.layers.merge.Multiply object at 0x1a17fc850>: False\n",
      "<keras.layers.convolutional.Conv2D object at 0x1a180c430>: False\n",
      "<keras.layers.normalization.batch_normalization.BatchNormalization object at 0x1a180c820>: False\n",
      "<keras.layers.convolutional.Conv2D object at 0x1a17f7130>: False\n",
      "<keras.layers.normalization.batch_normalization.BatchNormalization object at 0x1a1815d60>: False\n",
      "<keras.layers.core.Activation object at 0x1a182e0a0>: False\n",
      "<keras.layers.convolutional.DepthwiseConv2D object at 0x1a182e760>: False\n",
      "<keras.layers.normalization.batch_normalization.BatchNormalization object at 0x1a182e910>: False\n",
      "<keras.layers.core.Activation object at 0x1a18228e0>: False\n",
      "<keras.layers.pooling.GlobalAveragePooling2D object at 0x1a17d4490>: False\n",
      "<keras.layers.core.Reshape object at 0x1a17c56d0>: False\n",
      "<keras.layers.convolutional.Conv2D object at 0x1a180c220>: False\n",
      "<keras.layers.convolutional.Conv2D object at 0x1a17ece20>: False\n",
      "<keras.layers.merge.Multiply object at 0x1a17bd340>: False\n",
      "<keras.layers.convolutional.Conv2D object at 0x1a1834760>: False\n",
      "<keras.layers.normalization.batch_normalization.BatchNormalization object at 0x1a1834910>: False\n",
      "<keras.layers.core.Dropout object at 0x1a183e760>: False\n",
      "<keras.layers.merge.Add object at 0x1a17d4940>: False\n",
      "<keras.layers.convolutional.Conv2D object at 0x1a1838bb0>: False\n",
      "<keras.layers.normalization.batch_normalization.BatchNormalization object at 0x1a1847430>: False\n",
      "<keras.layers.core.Activation object at 0x1a17bd4c0>: False\n",
      "<keras.layers.convolutional.DepthwiseConv2D object at 0x1a1842670>: False\n",
      "<keras.layers.normalization.batch_normalization.BatchNormalization object at 0x1a181deb0>: False\n",
      "<keras.layers.core.Activation object at 0x1a18388b0>: False\n",
      "<keras.layers.pooling.GlobalAveragePooling2D object at 0x1a1842730>: False\n",
      "<keras.layers.core.Reshape object at 0x1a18428e0>: False\n",
      "<keras.layers.convolutional.Conv2D object at 0x1a185d3d0>: False\n",
      "<keras.layers.convolutional.Conv2D object at 0x1a18421f0>: False\n",
      "<keras.layers.merge.Multiply object at 0x1a185db50>: False\n",
      "<keras.layers.convolutional.Conv2D object at 0x1a1866c40>: False\n",
      "<keras.layers.normalization.batch_normalization.BatchNormalization object at 0x1a185d700>: False\n",
      "<keras.layers.core.Dropout object at 0x1a1872c40>: False\n",
      "<keras.layers.merge.Add object at 0x1a18591c0>: False\n",
      "<keras.layers.convolutional.Conv2D object at 0x1a18425e0>: False\n",
      "<keras.layers.normalization.batch_normalization.BatchNormalization object at 0x1a186c850>: False\n",
      "<keras.layers.core.Activation object at 0x1a1866100>: False\n",
      "<keras.layers.convolutional.DepthwiseConv2D object at 0x1a188d8e0>: False\n",
      "<keras.layers.normalization.batch_normalization.BatchNormalization object at 0x1a188d970>: False\n",
      "<keras.layers.core.Activation object at 0x1a18722b0>: False\n",
      "<keras.layers.pooling.GlobalAveragePooling2D object at 0x1a1888e80>: False\n",
      "<keras.layers.core.Reshape object at 0x1a189a340>: False\n",
      "<keras.layers.convolutional.Conv2D object at 0x1a1894100>: False\n",
      "<keras.layers.convolutional.Conv2D object at 0x1a187f3a0>: False\n",
      "<keras.layers.merge.Multiply object at 0x1a189e8e0>: False\n",
      "<keras.layers.convolutional.Conv2D object at 0x1a189ef10>: False\n",
      "<keras.layers.normalization.batch_normalization.BatchNormalization object at 0x1a18ab0a0>: False\n",
      "<keras.layers.core.Dropout object at 0x1a18b8520>: False\n",
      "<keras.layers.merge.Add object at 0x1a189a4c0>: False\n",
      "<keras.layers.convolutional.Conv2D object at 0x1a17bf3d0>: True\n",
      "<keras.layers.normalization.batch_normalization.BatchNormalization object at 0x1a1866040>: False\n",
      "<keras.layers.core.Activation object at 0x1a18abe80>: True\n",
      "<keras.layers.convolutional.DepthwiseConv2D object at 0x1a188de50>: True\n",
      "<keras.layers.normalization.batch_normalization.BatchNormalization object at 0x1a1872460>: False\n",
      "<keras.layers.core.Activation object at 0x1a18b8040>: True\n",
      "<keras.layers.pooling.GlobalAveragePooling2D object at 0x1a188d190>: True\n",
      "<keras.layers.core.Reshape object at 0x1a18c0910>: True\n",
      "<keras.layers.convolutional.Conv2D object at 0x1a189e910>: True\n",
      "<keras.layers.convolutional.Conv2D object at 0x1a18c02b0>: True\n",
      "<keras.layers.merge.Multiply object at 0x1a18cca90>: True\n",
      "<keras.layers.convolutional.Conv2D object at 0x1a18cc700>: True\n",
      "<keras.layers.normalization.batch_normalization.BatchNormalization object at 0x1a189ed00>: False\n",
      "<keras.layers.convolutional.Conv2D object at 0x19d567a30>: True\n",
      "<keras.layers.normalization.batch_normalization.BatchNormalization object at 0x1a18d3310>: False\n",
      "<keras.layers.core.Activation object at 0x1a18c7f70>: True\n",
      "<keras.layers.pooling.GlobalAveragePooling2D object at 0x1a18dd460>: True\n",
      "<keras.layers.normalization.batch_normalization.BatchNormalization object at 0x19fdd5c40>: True\n",
      "<keras.layers.core.Dropout object at 0x1a18ecca0>: True\n",
      "<keras.layers.core.Dense object at 0x1a192f6a0>: True\n"
     ]
    }
   ],
   "source": [
    "model_fine_tuned = fine_tune_model(model_preprocess)"
   ]
  },
  {
   "cell_type": "code",
   "execution_count": 90,
   "metadata": {},
   "outputs": [
    {
     "name": "stdout",
     "output_type": "stream",
     "text": [
      "Epoch 1/50\n",
      "10/10 - 25s - loss: 0.5679 - auc_3: 0.8249 - val_loss: 0.5481 - val_auc_3: 0.8044\n",
      "\n",
      "Epoch 00001: val_loss improved from inf to 0.54814, saving model to fine_tuned_house.h5\n"
     ]
    },
    {
     "name": "stderr",
     "output_type": "stream",
     "text": [
      "/Users/varshita/Desktop/End_To_End_Project/e2eproject/lib/python3.9/site-packages/keras/utils/generic_utils.py:494: CustomMaskWarning: Custom mask layers require a config and must override get_config. When loading, the custom mask layer must be passed to the custom_objects argument.\n",
      "  warnings.warn('Custom mask layers require a config and must override '\n"
     ]
    },
    {
     "name": "stdout",
     "output_type": "stream",
     "text": [
      "Epoch 2/50\n",
      "10/10 - 18s - loss: 0.6388 - auc_3: 0.7792 - val_loss: 0.5478 - val_auc_3: 0.8019\n",
      "\n",
      "Epoch 00002: val_loss improved from 0.54814 to 0.54777, saving model to fine_tuned_house.h5\n",
      "Epoch 3/50\n",
      "10/10 - 18s - loss: 0.6102 - auc_3: 0.7887 - val_loss: 0.5473 - val_auc_3: 0.8013\n",
      "\n",
      "Epoch 00003: val_loss improved from 0.54777 to 0.54733, saving model to fine_tuned_house.h5\n",
      "Epoch 4/50\n",
      "10/10 - 18s - loss: 0.6196 - auc_3: 0.7832 - val_loss: 0.5464 - val_auc_3: 0.8021\n",
      "\n",
      "Epoch 00004: val_loss improved from 0.54733 to 0.54645, saving model to fine_tuned_house.h5\n",
      "Epoch 5/50\n",
      "10/10 - 18s - loss: 0.5794 - auc_3: 0.8055 - val_loss: 0.5454 - val_auc_3: 0.8015\n",
      "\n",
      "Epoch 00005: val_loss improved from 0.54645 to 0.54544, saving model to fine_tuned_house.h5\n",
      "Epoch 6/50\n",
      "10/10 - 18s - loss: 0.6026 - auc_3: 0.7919 - val_loss: 0.5438 - val_auc_3: 0.8014\n",
      "\n",
      "Epoch 00006: val_loss improved from 0.54544 to 0.54384, saving model to fine_tuned_house.h5\n",
      "Epoch 7/50\n",
      "10/10 - 18s - loss: 0.5724 - auc_3: 0.8170 - val_loss: 0.5430 - val_auc_3: 0.8025\n",
      "\n",
      "Epoch 00007: val_loss improved from 0.54384 to 0.54298, saving model to fine_tuned_house.h5\n",
      "Epoch 8/50\n",
      "10/10 - 18s - loss: 0.6205 - auc_3: 0.7870 - val_loss: 0.5428 - val_auc_3: 0.8022\n",
      "\n",
      "Epoch 00008: val_loss improved from 0.54298 to 0.54281, saving model to fine_tuned_house.h5\n",
      "Epoch 9/50\n",
      "10/10 - 18s - loss: 0.5804 - auc_3: 0.8128 - val_loss: 0.5419 - val_auc_3: 0.8025\n",
      "\n",
      "Epoch 00009: val_loss improved from 0.54281 to 0.54186, saving model to fine_tuned_house.h5\n",
      "Epoch 10/50\n",
      "10/10 - 18s - loss: 0.5780 - auc_3: 0.8073 - val_loss: 0.5414 - val_auc_3: 0.8023\n",
      "\n",
      "Epoch 00010: val_loss improved from 0.54186 to 0.54139, saving model to fine_tuned_house.h5\n",
      "Epoch 11/50\n",
      "10/10 - 18s - loss: 0.6139 - auc_3: 0.7910 - val_loss: 0.5410 - val_auc_3: 0.8035\n",
      "\n",
      "Epoch 00011: val_loss improved from 0.54139 to 0.54095, saving model to fine_tuned_house.h5\n",
      "Epoch 12/50\n",
      "10/10 - 18s - loss: 0.5972 - auc_3: 0.8044 - val_loss: 0.5412 - val_auc_3: 0.8041\n",
      "\n",
      "Epoch 00012: val_loss did not improve from 0.54095\n",
      "Epoch 13/50\n",
      "10/10 - 19s - loss: 0.5557 - auc_3: 0.8312 - val_loss: 0.5412 - val_auc_3: 0.8033\n",
      "\n",
      "Epoch 00013: val_loss did not improve from 0.54095\n",
      "Epoch 14/50\n",
      "10/10 - 20s - loss: 0.5866 - auc_3: 0.8033 - val_loss: 0.5410 - val_auc_3: 0.8030\n",
      "\n",
      "Epoch 00014: val_loss did not improve from 0.54095\n",
      "Epoch 15/50\n",
      "10/10 - 19s - loss: 0.5497 - auc_3: 0.8369 - val_loss: 0.5414 - val_auc_3: 0.8033\n",
      "\n",
      "Epoch 00015: val_loss did not improve from 0.54095\n",
      "Epoch 16/50\n",
      "10/10 - 19s - loss: 0.5801 - auc_3: 0.8166 - val_loss: 0.5408 - val_auc_3: 0.8025\n",
      "\n",
      "Epoch 00016: val_loss improved from 0.54095 to 0.54082, saving model to fine_tuned_house.h5\n",
      "Epoch 17/50\n",
      "10/10 - 19s - loss: 0.6139 - auc_3: 0.7932 - val_loss: 0.5414 - val_auc_3: 0.8035\n",
      "\n",
      "Epoch 00017: val_loss did not improve from 0.54082\n",
      "Epoch 18/50\n",
      "10/10 - 19s - loss: 0.6241 - auc_3: 0.7880 - val_loss: 0.5416 - val_auc_3: 0.8027\n",
      "\n",
      "Epoch 00018: val_loss did not improve from 0.54082\n",
      "Epoch 19/50\n",
      "10/10 - 19s - loss: 0.5511 - auc_3: 0.8182 - val_loss: 0.5413 - val_auc_3: 0.8038\n",
      "\n",
      "Epoch 00019: val_loss did not improve from 0.54082\n",
      "Epoch 20/50\n",
      "10/10 - 20s - loss: 0.6203 - auc_3: 0.7816 - val_loss: 0.5407 - val_auc_3: 0.8035\n",
      "\n",
      "Epoch 00020: val_loss improved from 0.54082 to 0.54068, saving model to fine_tuned_house.h5\n",
      "Epoch 21/50\n",
      "10/10 - 19s - loss: 0.5601 - auc_3: 0.8257 - val_loss: 0.5397 - val_auc_3: 0.8065\n",
      "\n",
      "Epoch 00021: val_loss improved from 0.54068 to 0.53968, saving model to fine_tuned_house.h5\n",
      "Epoch 22/50\n",
      "10/10 - 18s - loss: 0.5547 - auc_3: 0.8254 - val_loss: 0.5399 - val_auc_3: 0.8060\n",
      "\n",
      "Epoch 00022: val_loss did not improve from 0.53968\n",
      "Epoch 23/50\n",
      "10/10 - 19s - loss: 0.5806 - auc_3: 0.8087 - val_loss: 0.5403 - val_auc_3: 0.8065\n",
      "\n",
      "Epoch 00023: val_loss did not improve from 0.53968\n",
      "Epoch 24/50\n",
      "10/10 - 19s - loss: 0.6256 - auc_3: 0.7785 - val_loss: 0.5392 - val_auc_3: 0.8065\n",
      "\n",
      "Epoch 00024: val_loss improved from 0.53968 to 0.53920, saving model to fine_tuned_house.h5\n",
      "Epoch 25/50\n",
      "10/10 - 19s - loss: 0.5887 - auc_3: 0.8067 - val_loss: 0.5392 - val_auc_3: 0.8057\n",
      "\n",
      "Epoch 00025: val_loss did not improve from 0.53920\n",
      "Epoch 26/50\n",
      "10/10 - 19s - loss: 0.5888 - auc_3: 0.8070 - val_loss: 0.5403 - val_auc_3: 0.8062\n",
      "\n",
      "Epoch 00026: val_loss did not improve from 0.53920\n",
      "Epoch 27/50\n",
      "10/10 - 19s - loss: 0.5851 - auc_3: 0.8077 - val_loss: 0.5422 - val_auc_3: 0.8048\n",
      "\n",
      "Epoch 00027: val_loss did not improve from 0.53920\n",
      "Epoch 28/50\n",
      "10/10 - 19s - loss: 0.5933 - auc_3: 0.7975 - val_loss: 0.5429 - val_auc_3: 0.8049\n",
      "\n",
      "Epoch 00028: val_loss did not improve from 0.53920\n",
      "Epoch 29/50\n",
      "10/10 - 20s - loss: 0.5840 - auc_3: 0.8182 - val_loss: 0.5433 - val_auc_3: 0.8049\n",
      "\n",
      "Epoch 00029: val_loss did not improve from 0.53920\n",
      "Epoch 30/50\n",
      "10/10 - 19s - loss: 0.5163 - auc_3: 0.8509 - val_loss: 0.5436 - val_auc_3: 0.8044\n",
      "\n",
      "Epoch 00030: val_loss did not improve from 0.53920\n",
      "Epoch 31/50\n",
      "10/10 - 20s - loss: 0.5448 - auc_3: 0.8294 - val_loss: 0.5433 - val_auc_3: 0.8054\n",
      "\n",
      "Epoch 00031: val_loss did not improve from 0.53920\n",
      "Epoch 32/50\n",
      "10/10 - 18s - loss: 0.5396 - auc_3: 0.8418 - val_loss: 0.5430 - val_auc_3: 0.8057\n",
      "\n",
      "Epoch 00032: val_loss did not improve from 0.53920\n",
      "Epoch 33/50\n",
      "10/10 - 19s - loss: 0.5197 - auc_3: 0.8481 - val_loss: 0.5422 - val_auc_3: 0.8065\n",
      "\n",
      "Epoch 00033: val_loss did not improve from 0.53920\n",
      "Epoch 34/50\n",
      "10/10 - 19s - loss: 0.5988 - auc_3: 0.8036 - val_loss: 0.5411 - val_auc_3: 0.8073\n",
      "\n",
      "Epoch 00034: val_loss did not improve from 0.53920\n",
      "Epoch 35/50\n",
      "10/10 - 19s - loss: 0.5581 - auc_3: 0.8266 - val_loss: 0.5401 - val_auc_3: 0.8084\n",
      "\n",
      "Epoch 00035: val_loss did not improve from 0.53920\n",
      "Epoch 36/50\n",
      "10/10 - 19s - loss: 0.5607 - auc_3: 0.8195 - val_loss: 0.5399 - val_auc_3: 0.8087\n",
      "\n",
      "Epoch 00036: val_loss did not improve from 0.53920\n",
      "Epoch 37/50\n",
      "10/10 - 19s - loss: 0.5633 - auc_3: 0.8220 - val_loss: 0.5403 - val_auc_3: 0.8076\n",
      "\n",
      "Epoch 00037: val_loss did not improve from 0.53920\n",
      "Epoch 38/50\n",
      "10/10 - 19s - loss: 0.5346 - auc_3: 0.8389 - val_loss: 0.5404 - val_auc_3: 0.8087\n",
      "\n",
      "Epoch 00038: val_loss did not improve from 0.53920\n",
      "Epoch 39/50\n",
      "10/10 - 20s - loss: 0.5140 - auc_3: 0.8523 - val_loss: 0.5390 - val_auc_3: 0.8097\n",
      "\n",
      "Epoch 00039: val_loss improved from 0.53920 to 0.53895, saving model to fine_tuned_house.h5\n",
      "Epoch 40/50\n",
      "10/10 - 19s - loss: 0.5585 - auc_3: 0.8255 - val_loss: 0.5383 - val_auc_3: 0.8105\n",
      "\n",
      "Epoch 00040: val_loss improved from 0.53895 to 0.53825, saving model to fine_tuned_house.h5\n",
      "Epoch 41/50\n",
      "10/10 - 19s - loss: 0.5373 - auc_3: 0.8375 - val_loss: 0.5398 - val_auc_3: 0.8087\n",
      "\n",
      "Epoch 00041: val_loss did not improve from 0.53825\n",
      "Epoch 42/50\n",
      "10/10 - 19s - loss: 0.5099 - auc_3: 0.8518 - val_loss: 0.5403 - val_auc_3: 0.8087\n",
      "\n",
      "Epoch 00042: val_loss did not improve from 0.53825\n",
      "Epoch 43/50\n",
      "10/10 - 20s - loss: 0.6103 - auc_3: 0.8000 - val_loss: 0.5397 - val_auc_3: 0.8076\n",
      "\n",
      "Epoch 00043: val_loss did not improve from 0.53825\n",
      "Epoch 44/50\n",
      "10/10 - 19s - loss: 0.5180 - auc_3: 0.8521 - val_loss: 0.5389 - val_auc_3: 0.8097\n",
      "\n",
      "Epoch 00044: val_loss did not improve from 0.53825\n",
      "Epoch 45/50\n",
      "10/10 - 19s - loss: 0.5493 - auc_3: 0.8308 - val_loss: 0.5386 - val_auc_3: 0.8097\n",
      "\n",
      "Epoch 00045: val_loss did not improve from 0.53825\n",
      "Epoch 46/50\n",
      "10/10 - 19s - loss: 0.5476 - auc_3: 0.8305 - val_loss: 0.5383 - val_auc_3: 0.8103\n",
      "\n",
      "Epoch 00046: val_loss did not improve from 0.53825\n",
      "Epoch 47/50\n",
      "10/10 - 19s - loss: 0.5741 - auc_3: 0.8170 - val_loss: 0.5388 - val_auc_3: 0.8078\n",
      "\n",
      "Epoch 00047: val_loss did not improve from 0.53825\n",
      "Epoch 48/50\n",
      "10/10 - 20s - loss: 0.5581 - auc_3: 0.8226 - val_loss: 0.5377 - val_auc_3: 0.8096\n",
      "\n",
      "Epoch 00048: val_loss improved from 0.53825 to 0.53770, saving model to fine_tuned_house.h5\n",
      "Epoch 49/50\n",
      "10/10 - 19s - loss: 0.5777 - auc_3: 0.8114 - val_loss: 0.5369 - val_auc_3: 0.8112\n",
      "\n",
      "Epoch 00049: val_loss improved from 0.53770 to 0.53693, saving model to fine_tuned_house.h5\n",
      "Epoch 50/50\n",
      "10/10 - 18s - loss: 0.5661 - auc_3: 0.8267 - val_loss: 0.5356 - val_auc_3: 0.8111\n",
      "\n",
      "Epoch 00050: val_loss improved from 0.53693 to 0.53555, saving model to fine_tuned_house.h5\n"
     ]
    }
   ],
   "source": [
    "# training the model\n",
    "\n",
    "# Before proceeding with training again, lets reset our train and valgen so that they start with sample #0\n",
    "trainGen.reset()\n",
    "valGen.reset()\n",
    "\n",
    "es_tune = EarlyStopping(monitor='val_loss',  \n",
    "                   mode='min',  \n",
    "                   patience=20,  \n",
    "                   verbose=1  \n",
    "                   )\n",
    "\n",
    "mc_tune = ModelCheckpoint('fine_tuned_house.h5', \n",
    "                    monitor='val_loss', \n",
    "                    mode='min', \n",
    "                    verbose=1, \n",
    "                    save_best_only=True)\n",
    "\n",
    "hist = model_fine_tuned.fit(\n",
    "\tx=trainGen,\n",
    "\tsteps_per_epoch=totalTrain // BATCH_SIZE,\n",
    "\tvalidation_data=valGen,\n",
    "\tepochs=50,\n",
    " \tverbose=2,\n",
    "  \tcallbacks=[es_tune, mc_tune]\n",
    "  )"
   ]
  },
  {
   "cell_type": "code",
   "execution_count": 94,
   "metadata": {},
   "outputs": [
    {
     "data": {
      "image/png": "[encoded data removed]",
      "text/plain": [
       "<Figure size 432x288 with 1 Axes>"
      ]
     },
     "metadata": {},
     "output_type": "display_data"
    }
   ],
   "source": [
    "plot_hist(hist, metric=\"auc_3\")"
   ]
  },
  {
   "cell_type": "code",
   "execution_count": 95,
   "metadata": {},
   "outputs": [
    {
     "data": {
      "image/png": "[encoded data removed]",
      "text/plain": [
       "<Figure size 432x288 with 1 Axes>"
      ]
     },
     "metadata": {},
     "output_type": "display_data"
    }
   ],
   "source": [
    "plot_hist(hist, metric=\"loss\")"
   ]
  },
  {
   "cell_type": "markdown",
   "metadata": {},
   "source": [
    "Looking at the loss curve, it seems fine tuning did not add any further improvements as one would have hoped. In fact, the validation loss is quite stable. Same is true for AUC."
   ]
  },
  {
   "cell_type": "markdown",
   "metadata": {},
   "source": [
    "## Testing"
   ]
  },
  {
   "cell_type": "code",
   "execution_count": 96,
   "metadata": {},
   "outputs": [
    {
     "data": {
      "text/plain": [
       "46"
      ]
     },
     "execution_count": 96,
     "metadata": {},
     "output_type": "execute_result"
    }
   ],
   "source": [
    "testGen.reset()\n",
    "\n",
    "predIdxs = model_fine_tuned.predict(x=testGen, \n",
    "                                    steps=(totalTest // BATCH_SIZE) + 1\n",
    "                                    )\n",
    "\n",
    "predIdxs = np.argmax(predIdxs, axis = 1)\n",
    "len(predIdxs)"
   ]
  },
  {
   "cell_type": "code",
   "execution_count": 97,
   "metadata": {},
   "outputs": [
    {
     "name": "stdout",
     "output_type": "stream",
     "text": [
      "              precision    recall  f1-score   support\n",
      "\n",
      "           M       0.72      0.72      0.72        18\n",
      "           O       0.82      0.82      0.82        28\n",
      "\n",
      "    accuracy                           0.78        46\n",
      "   macro avg       0.77      0.77      0.77        46\n",
      "weighted avg       0.78      0.78      0.78        46\n",
      "\n"
     ]
    }
   ],
   "source": [
    "print(classification_report(testGen.classes, predIdxs,\n",
    "\ttarget_names=testGen.class_indices.keys()))"
   ]
  },
  {
   "cell_type": "markdown",
   "metadata": {},
   "source": [
    "Observation: Model is slightly better at identifying old houses (with high recall value) compared to modern houses.\n",
    "\n",
    "In other words, of all the actual old houses, our model predicted 82% of them."
   ]
  },
  {
   "cell_type": "code",
   "execution_count": 98,
   "metadata": {},
   "outputs": [],
   "source": [
    "cm = confusion_matrix(testGen.classes, predIdxs)"
   ]
  },
  {
   "cell_type": "code",
   "execution_count": 99,
   "metadata": {},
   "outputs": [
    {
     "name": "stdout",
     "output_type": "stream",
     "text": [
      "dict_keys(['O', 'M'])\n",
      "dict_values([28, 18])\n"
     ]
    }
   ],
   "source": [
    "print(Counter(testY).keys()) # equals to list(set(words))\n",
    "print(Counter(testY).values()) # counts the elements' frequency"
   ]
  },
  {
   "cell_type": "code",
   "execution_count": 102,
   "metadata": {},
   "outputs": [
    {
     "name": "stdout",
     "output_type": "stream",
     "text": [
      "{'M': 0, 'O': 1}\n"
     ]
    },
    {
     "data": {
      "image/png": "[encoded data removed]",
      "text/plain": [
       "<Figure size 432x288 with 2 Axes>"
      ]
     },
     "metadata": {},
     "output_type": "display_data"
    }
   ],
   "source": [
    "print(testGen.class_indices)\n",
    "\n",
    "heatmap = sns.heatmap(cm, annot=True)\n",
    "\n",
    "plt.xlabel(\"Predicted\") \n",
    "plt.ylabel(\"Actual\")\n",
    "plt.show()"
   ]
  },
  {
   "cell_type": "markdown",
   "metadata": {},
   "source": [
    "We were able to correctly predict one more image from each class (How? Look at the increase in the instances on the diagonal compared to previous heat map)."
   ]
  },
  {
   "cell_type": "code",
   "execution_count": null,
   "metadata": {},
   "outputs": [],
   "source": []
  }
 ],
 "metadata": {
  "interpreter": {
   "hash": "41fef1be749fab50c93cd8f4ceb536b267c9425684efed15da8aa3d046b9637d"
  },
  "kernelspec": {
   "display_name": "Python 3.9.5 64-bit ('e2eproject': venv)",
   "name": "python3"
  },
  "language_info": {
   "codemirror_mode": {
    "name": "ipython",
    "version": 3
   },
   "file_extension": ".py",
   "mimetype": "text/x-python",
   "name": "python",
   "nbconvert_exporter": "python",
   "pygments_lexer": "ipython3",
   "version": "3.9.5"
  },
  "orig_nbformat": 4
 },
 "nbformat": 4,
 "nbformat_minor": 2
}
